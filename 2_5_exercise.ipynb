{
  "nbformat": 4,
  "nbformat_minor": 0,
  "metadata": {
    "colab": {
      "name": "2.5 exercise.ipynb",
      "provenance": [],
      "authorship_tag": "ABX9TyNkuMVJYQsmYR76GP7ZZoE7"
    },
    "kernelspec": {
      "name": "python3",
      "display_name": "Python 3"
    },
    "language_info": {
      "name": "python"
    }
  },
  "cells": [
    {
      "cell_type": "code",
      "execution_count": null,
      "metadata": {
        "id": "F2No21FJETNe"
      },
      "outputs": [],
      "source": [
        ""
      ]
    }
  ]
}